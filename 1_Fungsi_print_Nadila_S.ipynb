{
  "nbformat": 4,
  "nbformat_minor": 0,
  "metadata": {
    "colab": {
      "provenance": [],
      "authorship_tag": "ABX9TyP9lEFUK45urTkonrmbdaYx",
      "include_colab_link": true
    },
    "kernelspec": {
      "name": "python3",
      "display_name": "Python 3"
    },
    "language_info": {
      "name": "python"
    }
  },
  "cells": [
    {
      "cell_type": "markdown",
      "metadata": {
        "id": "view-in-github",
        "colab_type": "text"
      },
      "source": [
        "<a href=\"https://colab.research.google.com/github/nadilaasafanaa2025-commits/KKA-X-Semester-1/blob/main/1_Fungsi_print_Nadila_S.ipynb\" target=\"_parent\"><img src=\"https://colab.research.google.com/assets/colab-badge.svg\" alt=\"Open In Colab\"/></a>"
      ]
    },
    {
      "cell_type": "markdown",
      "source": [
        "Nama:Nadila safana\n",
        "\n",
        "\n",
        "Kelas:X.8\n",
        "\n",
        "\n",
        "Absen:26"
      ],
      "metadata": {
        "id": "yC4VP_Fbd8Az"
      }
    },
    {
      "cell_type": "code",
      "execution_count": null,
      "metadata": {
        "colab": {
          "base_uri": "https://localhost:8080/"
        },
        "id": "H-BXPu1yg1V0",
        "outputId": "f270b2ed-c9d4-40af-9f67-75c2374b5b6a"
      },
      "outputs": [
        {
          "output_type": "stream",
          "name": "stdout",
          "text": [
            "BMI = 19.1 kg/m^2\n"
          ]
        }
      ],
      "source": [
        "cetak   ( \"BMI = 19,1 kg/m^2\" )"
      ]
    },
    {
      "cell_type": "code",
      "source": [
        "cetak  ( \"Berat badan sehat\" )"
      ],
      "metadata": {
        "colab": {
          "base_uri": "https://localhost:8080/"
        },
        "id": "o1ybmQ6kjLqK",
        "outputId": "a90ce5cf-1467-43c6-c001-7b9e8d7bc168"
      },
      "execution_count": null,
      "outputs": [
        {
          "output_type": "stream",
          "name": "stdout",
          "text": [
            "Healty weight\n"
          ]
        }
      ]
    },
    {
      "cell_type": "code",
      "source": [
        "nama =     \"Nadila Safana\"\n",
        "BB =     40\n",
        "TB =     162\n",
        "\n",
        "print    (    nama    )"
      ],
      "metadata": {
        "colab": {
          "base_uri": "https://localhost:8080/"
        },
        "id": "8B1robdlj8QD",
        "outputId": "c48bb00e-13eb-4377-b057-dabecbf9f5fd"
      },
      "execution_count": null,
      "outputs": [
        {
          "output_type": "stream",
          "name": "stdout",
          "text": [
            "Nadila Safana\n"
          ]
        }
      ]
    },
    {
      "cell_type": "markdown",
      "source": [
        "#Menampilkan Teks Bebas"
      ],
      "metadata": {
        "id": "xjsQidXdfqpP"
      }
    },
    {
      "cell_type": "code",
      "source": [
        "print(\"helo world\")"
      ],
      "metadata": {
        "colab": {
          "base_uri": "https://localhost:8080/"
        },
        "id": "E-9EDXPKhujM",
        "outputId": "403647b3-87bb-4339-b84f-2023188f70b2"
      },
      "execution_count": null,
      "outputs": [
        {
          "output_type": "stream",
          "name": "stdout",
          "text": [
            "helo world\n"
          ]
        }
      ]
    },
    {
      "cell_type": "code",
      "source": [
        "print(\"Nadila safana\")"
      ],
      "metadata": {
        "colab": {
          "base_uri": "https://localhost:8080/"
        },
        "id": "0qXDyTqHiCBB",
        "outputId": "974b7f0e-a507-4ee3-9b58-59af4f6e4d5c"
      },
      "execution_count": null,
      "outputs": [
        {
          "output_type": "stream",
          "name": "stdout",
          "text": [
            "Nadila safana\n"
          ]
        }
      ]
    },
    {
      "cell_type": "markdown",
      "source": [
        "#Menampilkan Nilai Variabel"
      ],
      "metadata": {
        "id": "lymPfv1BiLR8"
      }
    },
    {
      "cell_type": "code",
      "source": [
        "usia=15\n",
        "print(usia)"
      ],
      "metadata": {
        "colab": {
          "base_uri": "https://localhost:8080/"
        },
        "id": "sBnyO1oNjd7w",
        "outputId": "a91fb0b4-6a51-4a13-dc16-54dfca5d47ea"
      },
      "execution_count": null,
      "outputs": [
        {
          "output_type": "stream",
          "name": "stdout",
          "text": [
            "15\n"
          ]
        }
      ]
    },
    {
      "cell_type": "code",
      "source": [
        "nama=\"nadila safana\"\n",
        "print(nama)"
      ],
      "metadata": {
        "colab": {
          "base_uri": "https://localhost:8080/"
        },
        "id": "MxbZtEW4jw9R",
        "outputId": "563285c7-62bb-4e68-ad22-9483e35b461f"
      },
      "execution_count": null,
      "outputs": [
        {
          "output_type": "stream",
          "name": "stdout",
          "text": [
            "nadila safana\n"
          ]
        }
      ]
    },
    {
      "cell_type": "code",
      "source": [
        "BB=40"
      ],
      "metadata": {
        "id": "Zi71hRAukXdD"
      },
      "execution_count": null,
      "outputs": []
    },
    {
      "cell_type": "markdown",
      "source": [
        "Menampilkan Teks bebas dan nilai variabel"
      ],
      "metadata": {
        "id": "PCqWEOnhlJEo"
      }
    },
    {
      "cell_type": "code",
      "source": [
        "print(f\"berat badan saya {BB}\")"
      ],
      "metadata": {
        "colab": {
          "base_uri": "https://localhost:8080/"
        },
        "id": "xKmZumSDmAub",
        "outputId": "345faa93-5e24-44dd-af85-3b139a9431a4"
      },
      "execution_count": null,
      "outputs": [
        {
          "output_type": "stream",
          "name": "stdout",
          "text": [
            "berat badan saya 40\n"
          ]
        }
      ]
    },
    {
      "cell_type": "code",
      "source": [
        "print ( f \"perkenalkan nama saya  { nama } \" )"
      ],
      "metadata": {
        "colab": {
          "base_uri": "https://localhost:8080/"
        },
        "id": "Rsts7iNRlY95",
        "outputId": "06c57543-a5bd-4206-8053-579ac17ccf10"
      },
      "execution_count": null,
      "outputs": [
        {
          "output_type": "stream",
          "name": "stdout",
          "text": [
            "perkenalkan nama saya nadila safana\n"
          ]
        }
      ]
    },
    {
      "cell_type": "code",
      "source": [
        "nama_siswa_1= \"dinda\"\n",
        "nama_siswa_2= \"aurin\"\n",
        "nama_siswa_3= \"lisaan\"\n",
        "\n",
        "print ( nama_siswa_3 ,  nama_siswa_2 ,  nama_siswa_3 ,  nama_siswa_1 , sep= \"/\" )"
      ],
      "metadata": {
        "colab": {
          "base_uri": "https://localhost:8080/"
        },
        "id": "p9eqaQrej-KH",
        "outputId": "e719417b-cb3a-4a15-c15c-2a8e57df9a36"
      },
      "execution_count": null,
      "outputs": [
        {
          "output_type": "stream",
          "name": "stdout",
          "text": [
            "lisaan/aurin/lisaan/dinda\n"
          ]
        }
      ]
    },
    {
      "cell_type": "code",
      "source": [
        "nama_siswa_4 =\"Azkal\"\n",
        "nama_siswa_5 =\"Hasim\"\n",
        "nama_siswa_6 =\"Chilmi\"\n",
        "nama_siswa_7 =\" Nova\"\n",
        "\n",
        "print(nama_siswa_6,end=\"~\")\n",
        "print(nama_siswa_4)\n",
        "print(nama_siswa_5, end=\"-\")\n",
        "print(nama_siswa_7)\n",
        "print(nama_siswa_4, end=\"/\")\n",
        "print(nama_siswa_7, end=\"&\")\n",
        "print(nama_siswa_5)"
      ],
      "metadata": {
        "colab": {
          "base_uri": "https://localhost:8080/"
        },
        "id": "1Y4t0zXMofmq",
        "outputId": "be104bc0-bab1-4823-ecc0-3d76f22b5229"
      },
      "execution_count": null,
      "outputs": [
        {
          "output_type": "stream",
          "name": "stdout",
          "text": [
            "Chilmi~Azkal\n",
            "Hasim- Nova\n",
            "Azkal/ Nova&Hasim\n"
          ]
        }
      ]
    }
  ]
}